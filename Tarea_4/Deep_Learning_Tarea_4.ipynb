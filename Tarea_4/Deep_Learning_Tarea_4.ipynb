{
  "cells": [
    {
      "cell_type": "markdown",
      "id": "73c2f97b-36c1-4359-83d8-a6c6f7a6f412",
      "metadata": {
        "id": "73c2f97b-36c1-4359-83d8-a6c6f7a6f412"
      },
      "source": [
        "# Tarea 4\n",
        "\n",
        "## Estudiante: Andrés Calderón Guardia\n",
        "\n",
        "Usamos un dataset de analisis de sentimiento multimodal **centrada en entidades** en tweets. Cada tweet viene con una etiqueta entre `positive`, `negative` y `neutral`.\n",
        "\n",
        "Los tweets vienen de este formato textual, y cada tweet tiene una imagen:\n",
        "\n",
        "* `Harriette </s> $T$ moved back to Chicago to care for her mom : And it ' s been terrible # NextDayChi 17` tiene la etiqueta `neutral` y la imagen `twitter2015_images/71274.jpg`\n",
        "* `Chicago </s> Harriette moved back to $T$ to care for her mom : And it ' s been terrible # NextDayChi 17` tiene la etiqueta `negative` y la imagen `twitter2015_images/71274.jpg`\n",
        "\n",
        "**Vamos a ver como usar:**\n",
        "* Fusionar datos de imagenes y de texto para una tarea de clasificacion\n",
        "* Utilizar las representaciones de las imagenes modalidades tal que (pesos de los encoders congelados)\n",
        "* Fine-tunear todo el network\n",
        "* Tratar varios metodos de fusion con capa de attencion\n",
        "* Utilizar un modelo grande pre-entrenado de manera multimodal como VL-BERT or ViLT\n",
        "* Utilizar un LMM tipo BLIP3 pre-entrenado con instrucciones, usando Zero-shot"
      ]
    },
    {
      "cell_type": "markdown",
      "id": "0cae5356-8d8d-437a-86cf-dd294a8d0f47",
      "metadata": {
        "id": "0cae5356-8d8d-437a-86cf-dd294a8d0f47"
      },
      "source": [
        "## Se puede utilizar LLM para ayudarse!\n",
        "Mirar a [un ejemplo](https://chatgpt.com/share/d534833e-bd2c-40c1-81eb-34818b195cac) de como pedir las respuestas a un LLM. Mejor si entenden lo que hagan.\n",
        "\n",
        "#### Para cada entrenamiento\n",
        "* Informa de las curvas de pérdida y precisión en el entrenamiento y la validación.\n",
        "* Detén el entrenamiento en función de los resultados obtenidos en el conjunto de validación.\n",
        "* Utiliza una tasa de aprendizaje pequeña para que puedas ver cómo disminuye la pérdida en las distintas curvas.  "
      ]
    },
    {
      "cell_type": "markdown",
      "id": "314633ff-c8d9-4e77-88b8-0186d31c21ef",
      "metadata": {
        "id": "314633ff-c8d9-4e77-88b8-0186d31c21ef"
      },
      "source": [
        "### Before Starting! Some tips on GPU and Google Colab\n",
        "\n",
        "You will likely to run this code on Google Colab in order to use GPU ressources. If not, the code will take 60 times more to run!!  \n",
        "\n",
        "#### Stop disconnection\n",
        "\n",
        "Colab will disconnect you if you the training is too long. In order to prevent this, you can use this piece of code in the console of your browser:\n",
        "\n",
        "```java\n",
        "function ClickConnect(){\n",
        "console.log(\"Working\");\n",
        "document.querySelector(\"colab-toolbar-button#connect\").click()\n",
        "}\n",
        "setInterval(ClickConnect,60000)\n",
        "```\n",
        "\n",
        "See more [here](https://www.reddit.com/r/StableDiffusion/comments/xhhlp0/automatic1111_on_colab_how_to_keep_it_running/).\n",
        "\n",
        "#### Other account\n",
        "\n",
        "If you run out of available ressources, what you can do is changing of the account you are using in colab. You can create another gmail and switch to it, this should give you more GPU ressources.\n",
        "\n",
        "Good luck!"
      ]
    },
    {
      "cell_type": "code",
      "execution_count": null,
      "id": "66de14da-fc4a-47a3-aef2-8d031d943500",
      "metadata": {
        "id": "66de14da-fc4a-47a3-aef2-8d031d943500",
        "tags": []
      },
      "outputs": [],
      "source": [
        "! wget https://users.dcc.uchile.cl/~vbarrier/MModal_Sentiment/Texts_Targeted.zip\n",
        "! unzip Texts_Targeted.zip"
      ]
    },
    {
      "cell_type": "code",
      "execution_count": null,
      "id": "ac593907-0f61-4536-b551-296b4988bf8b",
      "metadata": {
        "id": "ac593907-0f61-4536-b551-296b4988bf8b",
        "scrolled": true,
        "collapsed": true
      },
      "outputs": [],
      "source": [
        "! wget https://users.dcc.uchile.cl/~vbarrier/MModal_Sentiment/Images.zip\n",
        "! unzip Images.zip"
      ]
    },
    {
      "cell_type": "code",
      "execution_count": null,
      "id": "d2204e4c-c21c-42f7-bcc5-5e95942f335d",
      "metadata": {
        "id": "d2204e4c-c21c-42f7-bcc5-5e95942f335d",
        "tags": []
      },
      "outputs": [],
      "source": [
        "import pandas as pd\n",
        "\n",
        "def read_data(fn):\n",
        "    df = pd.read_csv(fn, sep='\\t')[['tweet', 'label', 'image_id']]\n",
        "    X = df.tweet\n",
        "    y = df.label\n",
        "    path_image = df.image_id\n",
        "    return X, y, path_image\n",
        "\n",
        "split='train'\n",
        "X_train, y_train, path_image_train = read_data('MModal_Targeted_Sentiment_%s.tsv'%split)\n",
        "split='dev'\n",
        "X_dev, y_dev, path_image_dev = read_data('MModal_Targeted_Sentiment_%s.tsv'%split)\n",
        "split='test'\n",
        "X_test, y_test, path_image_test = read_data('MModal_Targeted_Sentiment_%s.tsv'%split)"
      ]
    },
    {
      "cell_type": "markdown",
      "id": "6cf22f35-0eb5-42fc-b4fe-09e7098d4ed1",
      "metadata": {
        "id": "6cf22f35-0eb5-42fc-b4fe-09e7098d4ed1"
      },
      "source": [
        "## Modelizacion\n",
        "\n",
        "**Metricas**: Para este tarea de clasificacion pueden utilizar el score F-1 para estimar las performancias de los modelos  \n",
        "\n",
        "**Multimodal Fusion**: The principle is to encode each modality and fuse them together.   \n",
        "\n",
        "**Text Encoding**: You need to encode the text into a vector. Implement:\n",
        "* a simple text encoding using a Bag-of-Word and a tf-idf, or an encoding using word2vec and aggregation using the arithmetic mean,\n",
        "* an encoding using RoBERTa by taking the `<s>` token"
      ]
    },
    {
      "cell_type": "code",
      "source": [
        "import numpy as np\n",
        "import torch, os, matplotlib.pyplot as plt\n",
        "import torch.nn as nn\n",
        "import torchvision.transforms as transforms\n",
        "from PIL import Image\n",
        "from torch.utils.data import Dataset, DataLoader\n",
        "from sklearn.feature_extraction.text import TfidfVectorizer\n",
        "from sklearn.preprocessing import LabelEncoder\n",
        "from sklearn.metrics import f1_score\n",
        "from transformers import RobertaTokenizer, RobertaModel"
      ],
      "metadata": {
        "id": "AvxHQF_A2sDB"
      },
      "id": "AvxHQF_A2sDB",
      "execution_count": null,
      "outputs": []
    },
    {
      "cell_type": "code",
      "source": [
        "# tf-idf encoding\n",
        "le = LabelEncoder()\n",
        "le.fit(y_train)\n",
        "y_train_enc = le.transform(y_train)\n",
        "y_dev_enc = le.transform(y_dev)\n",
        "y_test_enc = le.transform(y_test)\n",
        "num_classes = len(le.classes_)\n",
        "\n",
        "tfidf_vectorizer = TfidfVectorizer(max_features=5000)\n",
        "tfidf_vectorizer.fit(X_train)\n",
        "X_train_tfidf = tfidf_vectorizer.transform(X_train)\n",
        "X_dev_tfidf = tfidf_vectorizer.transform(X_dev)\n",
        "X_test_tfidf = tfidf_vectorizer.transform(X_test)\n",
        "\n",
        "# RoBERTa encoding\n",
        "tokenizer = RobertaTokenizer.from_pretrained('roberta-base')\n",
        "\n",
        "# Tokenize the tweets\n",
        "X_train_tokenized = tokenizer(\n",
        "    X_train.tolist(),\n",
        "    padding=True,\n",
        "    truncation=True,\n",
        "    max_length=512,\n",
        "    return_tensors=\"pt\"\n",
        ")\n",
        "X_dev_tokenized = tokenizer(\n",
        "    X_dev.tolist(),\n",
        "    padding=True,\n",
        "    truncation=True,\n",
        "    max_length=512,\n",
        "    return_tensors=\"pt\"\n",
        ")\n",
        "X_test_tokenized = tokenizer(\n",
        "    X_test.tolist(),\n",
        "    padding=True,\n",
        "    truncation=True,\n",
        "    max_length=512,\n",
        "    return_tensors=\"pt\"\n",
        ")"
      ],
      "metadata": {
        "id": "xLsHTvdgzrhn"
      },
      "id": "xLsHTvdgzrhn",
      "execution_count": null,
      "outputs": []
    },
    {
      "cell_type": "markdown",
      "source": [
        "**Image Encoding**: You need to encode the image into a vector using an already pre-trained CNN that will create a representation of the image:\n",
        "* an EfficientNetB2 or EfficientNetB3 pre-trained over ImageNet\n",
        "* an EfficientNetB2 or EfficientNetB3 already fine-tuned over the Emotion Recognition dataset"
      ],
      "metadata": {
        "id": "8bTyUemTzp0T"
      },
      "id": "8bTyUemTzp0T"
    },
    {
      "cell_type": "code",
      "source": [
        "!pip install efficientnet_pytorch"
      ],
      "metadata": {
        "id": "4_a0TOjJseqD"
      },
      "id": "4_a0TOjJseqD",
      "execution_count": null,
      "outputs": []
    },
    {
      "cell_type": "code",
      "source": [
        "from efficientnet_pytorch import EfficientNet"
      ],
      "metadata": {
        "id": "sZ3MbHt3Ty2f"
      },
      "id": "sZ3MbHt3Ty2f",
      "execution_count": null,
      "outputs": []
    },
    {
      "cell_type": "code",
      "source": [
        "# Pre-trained\n",
        "pre_trained = EfficientNet.from_pretrained('efficientnet-b3')\n",
        "\n",
        "# This model was fine-tuned using the second homework\n",
        "fine_tuned = torch.load(\"/content/efficient_net_B3_fine_tuned.pt\")"
      ],
      "metadata": {
        "id": "yJIZNS7Z55Ww",
        "colab": {
          "base_uri": "https://localhost:8080/"
        },
        "outputId": "25a755c3-d27d-4569-cd34-3e32fb2b5909"
      },
      "id": "yJIZNS7Z55Ww",
      "execution_count": null,
      "outputs": [
        {
          "output_type": "stream",
          "name": "stdout",
          "text": [
            "Loaded pretrained weights for efficientnet-b3\n"
          ]
        },
        {
          "output_type": "stream",
          "name": "stderr",
          "text": [
            "<ipython-input-52-8ecde34f5206>:5: FutureWarning: You are using `torch.load` with `weights_only=False` (the current default value), which uses the default pickle module implicitly. It is possible to construct malicious pickle data which will execute arbitrary code during unpickling (See https://github.com/pytorch/pytorch/blob/main/SECURITY.md#untrusted-models for more details). In a future release, the default value for `weights_only` will be flipped to `True`. This limits the functions that could be executed during unpickling. Arbitrary objects will no longer be allowed to be loaded via this mode unless they are explicitly allowlisted by the user via `torch.serialization.add_safe_globals`. We recommend you start setting `weights_only=True` for any use case where you don't have full control of the loaded file. Please open an issue on GitHub for any issues related to this experimental feature.\n",
            "  fine_tuned = torch.load(\"/content/efficient_net_B3_fine_tuned.pt\")\n"
          ]
        }
      ]
    },
    {
      "cell_type": "markdown",
      "id": "78513458-1a40-4b38-a601-7801200ac855",
      "metadata": {
        "id": "78513458-1a40-4b38-a601-7801200ac855",
        "jp-MarkdownHeadingCollapsed": true,
        "tags": []
      },
      "source": [
        "#### Text Transformer Model\n",
        "\n",
        "Use a pre-trained model from the HuggingFace library and fine-tune it on the dataset.\n",
        "\n",
        "* For the data, you can use the classes `DataLoader` and `DataLoader` from `torch.utils.data`\n",
        "* For the modelization:\n",
        "  * You can use the classes `AutoTokenizer` and `AutoModel` from the `transformers` library\n",
        "  * Load the weights of the models already pre-trained, with the associated tokenizer!\n",
        "  * You can use a [classical roberta](https://huggingface.co/roberta-base) `'roberta-base'`\n",
        "  * You can also use another model from huggingface, like [a smaller model](https://huggingface.co/distilbert-base-uncased) such as `distilbert-base-uncased` (it is an example). Be careful if you do this! You will need to change the separation token of the tweets (which is `</s>` here)\n",
        "  \n",
        "#### Multimodal Model\n",
        "\n",
        "* For the fine-tuning (optimization):\n",
        "    * Make the loop in pytorch, **do not use** the class `Trainer` from the `transformers` library\n",
        "    * You can use classical loss functions like cross-entropy and the optimizer you want, `Adam` or `AdamW` for example, you can set the learning rate to `1e-5`, a batch size of `32` and `10` epochs. Be sure that you are converging well, by looking at the train and validation loss curves. These values worked for me!\n",
        "\n",
        "```python\n",
        "optimizer_params = {\n",
        "    'lr': 1e-5,\n",
        "    'batch_size': 32,\n",
        "    'num_epochs':10,\n",
        "}\n",
        "```"
      ]
    },
    {
      "cell_type": "markdown",
      "id": "c45c3234-f389-401c-96f3-542ea594daf6",
      "metadata": {
        "id": "c45c3234-f389-401c-96f3-542ea594daf6",
        "tags": []
      },
      "source": [
        "### Naive Fusions\n",
        "\n",
        "* Concatenate the audio and text representations: before naively fusing them with a MLP layer\n",
        "* Concatenate the penultimate layers (neural representations): the `<s>` vector for RoBERTa and the representation of the EfficientNet\n",
        "* Finally, when using the text encoder and the image encoder, run another experiment unfreezing the parameters of the whole network during fine-tuning\n",
        "* You can try using an EfficientNet already fine-tuned over the Emotion dataset and see the differences, it should help!  "
      ]
    },
    {
      "cell_type": "markdown",
      "id": "43e6a340-81aa-461c-ac6f-c08f945b9282",
      "metadata": {
        "id": "43e6a340-81aa-461c-ac6f-c08f945b9282",
        "tags": []
      },
      "source": [
        "## Utils:\n",
        "\n",
        "Code functions that can be utils for this task:\n",
        "* `MultimodalDataset(torch.utils.data.Dataset)` class that is modular with the different type of encodings from `torch.utils.data.Dataset`\n",
        "* `training()` function with the training loop\n",
        "* A class `MultimodalClassifier(nn.Module)` containing the network _per se_.\n",
        "\n",
        "Use data augmentation for the vision modality:\n",
        "```python\n",
        "rotation_value = 0.2\n",
        "# Image transformations for EfficientNet\n",
        "# For validation/test\n",
        "self.image_transform = transforms.Compose([\n",
        "        transforms.CenterCrop(self.image_size),\n",
        "        # transforms.Resize((224, 224)),\n",
        "        transforms.ToTensor(),\n",
        "        transforms.Normalize(mean=[0.485, 0.456, 0.406], std=[0.229, 0.224, 0.225])\n",
        "    ])\n",
        "\n",
        "# Apply data augmentation at training\n",
        "self.image_transform_data_augmentation = transforms.Compose([\n",
        "    # transforms.RandomRotation(angle_rotation) # check if this works\n",
        "    transforms.RandomResizedCrop(self.image_size),\n",
        "    transforms.RandomHorizontalFlip(),\n",
        "    transforms.RandomVerticalFlip(),\n",
        "    transforms.RandomRotation(degrees=rotation_value * 360),\n",
        "    transforms.ToTensor(),\n",
        "    transforms.Normalize([0.485, 0.456, 0.406], [0.229, 0.224, 0.225])\n",
        "])\n",
        "```\n",
        "\n",
        "Also do not forget other regularizers like `Torch.nn.dropout` in the multimodal layers!"
      ]
    },
    {
      "cell_type": "code",
      "execution_count": null,
      "id": "fbc4b96e-c4dd-46d6-9dc4-327685319b07",
      "metadata": {
        "id": "fbc4b96e-c4dd-46d6-9dc4-327685319b07"
      },
      "outputs": [],
      "source": [
        "from torch.nn import MultiheadAttention\n",
        "from transformers import AutoModel, AutoTokenizer\n",
        "from tqdm import tqdm\n",
        "from sklearn.metrics import accuracy_score, classification_report\n",
        "from torch import optim\n",
        "from torchvision import models, transforms"
      ]
    },
    {
      "cell_type": "code",
      "execution_count": null,
      "id": "d13fc9ae-1172-4ee8-8c03-99e42d0f7f94",
      "metadata": {
        "id": "d13fc9ae-1172-4ee8-8c03-99e42d0f7f94"
      },
      "outputs": [],
      "source": [
        "def print_plots(train_losses, dev_losses, metric=\"Loss\"):\n",
        "    # Plotting training and validation of the given metric\n",
        "    plt.figure(figsize=(10, 5))\n",
        "    plt.plot(train_losses, label=f\"Training {metric}\")\n",
        "    plt.plot(dev_losses, label=f\"Validation {metric}\")\n",
        "    plt.xlabel(\"Epochs\")\n",
        "    plt.ylabel(f\"{metric}\")\n",
        "    plt.title(f\"Training and Validation {metric} Curve\")\n",
        "    plt.legend()\n",
        "    plt.show()"
      ]
    },
    {
      "cell_type": "markdown",
      "source": [
        "### 4 experiments using naive fusion"
      ],
      "metadata": {
        "id": "Sndqe-vMFlLG"
      },
      "id": "Sndqe-vMFlLG"
    },
    {
      "cell_type": "markdown",
      "source": [
        "#### Without RoBERTa + frozen-EfficientNet"
      ],
      "metadata": {
        "id": "poJVPciuZb9W"
      },
      "id": "poJVPciuZb9W"
    },
    {
      "cell_type": "code",
      "source": [
        "# Dataset class\n",
        "class MultimodalDataset(Dataset):\n",
        "    def __init__(self, X_text_tfidf, image_paths, y_labels, augment=False):\n",
        "        self.X_text_tfidf = X_text_tfidf\n",
        "        self.image_paths = image_paths\n",
        "        self.y_labels = y_labels\n",
        "        self.augment = augment\n",
        "        self.image_size = 224\n",
        "\n",
        "        rotation_value = 0.2\n",
        "        # Image transformations\n",
        "        self.image_transform = transforms.Compose([\n",
        "            transforms.CenterCrop(self.image_size),\n",
        "            transforms.ToTensor(),\n",
        "            transforms.Normalize(mean=[0.485, 0.456, 0.406],\n",
        "                                 std=[0.229, 0.224, 0.225])\n",
        "        ])\n",
        "        self.image_transform_data_augmentation = transforms.Compose([\n",
        "            transforms.RandomResizedCrop(self.image_size),\n",
        "            transforms.RandomHorizontalFlip(),\n",
        "            transforms.RandomVerticalFlip(),\n",
        "            transforms.RandomRotation(degrees=rotation_value * 360),\n",
        "            transforms.ToTensor(),\n",
        "            transforms.Normalize([0.485, 0.456, 0.406],\n",
        "                                 [0.229, 0.224, 0.225])\n",
        "        ])\n",
        "\n",
        "    def __len__(self):\n",
        "        return len(self.y_labels)\n",
        "\n",
        "    def __getitem__(self, idx):\n",
        "        # Get text vector\n",
        "        text_vector = self.X_text_tfidf[idx].toarray().squeeze()\n",
        "        text_vector = torch.tensor(text_vector, dtype=torch.float32)\n",
        "\n",
        "        # Get image\n",
        "        image_path = self.image_paths.iloc[idx]\n",
        "        image_file = os.path.join(str(image_path))\n",
        "        image = Image.open(image_file).convert('RGB')\n",
        "        if self.augment:\n",
        "            image = self.image_transform_data_augmentation(image)\n",
        "        else:\n",
        "            image = self.image_transform(image)\n",
        "\n",
        "        label = self.y_labels[idx]\n",
        "        return text_vector, image, label"
      ],
      "metadata": {
        "id": "Htlz-vooSHlw"
      },
      "id": "Htlz-vooSHlw",
      "execution_count": null,
      "outputs": []
    },
    {
      "cell_type": "code",
      "source": [
        "# Create datasets and dataloaders\n",
        "batch_size = 32\n",
        "\n",
        "train_dataset = MultimodalDataset(X_train_tfidf, path_image_train, y_train_enc, augment=True)\n",
        "dev_dataset = MultimodalDataset(X_dev_tfidf, path_image_dev, y_dev_enc)\n",
        "test_dataset = MultimodalDataset(X_test_tfidf, path_image_test, y_test_enc)\n",
        "\n",
        "train_loader = DataLoader(train_dataset, batch_size=batch_size, shuffle=True)\n",
        "dev_loader = DataLoader(dev_dataset, batch_size=batch_size)\n",
        "test_loader = DataLoader(test_dataset, batch_size=batch_size)"
      ],
      "metadata": {
        "id": "4T5SuiUbSMUM"
      },
      "id": "4T5SuiUbSMUM",
      "execution_count": null,
      "outputs": []
    },
    {
      "cell_type": "code",
      "source": [
        "class MultimodalClassifier(nn.Module):\n",
        "    def __init__(self, text_feature_size, num_classes):\n",
        "        super(MultimodalClassifier, self).__init__()\n",
        "        # Image encoder\n",
        "        self.image_model = pre_trained\n",
        "        # Freeze image model parameters\n",
        "        for param in self.image_model.parameters():\n",
        "            param.requires_grad = False\n",
        "        # Get the number of features from image model\n",
        "        image_feature_size = self.image_model._fc.in_features  # 1408 for EfficientNet-B2\n",
        "\n",
        "        # Fusion and classifier\n",
        "        self.classifier = nn.Sequential(\n",
        "            nn.Linear(text_feature_size + image_feature_size, 512),\n",
        "            nn.ReLU(),\n",
        "            nn.Dropout(0.5),\n",
        "            nn.Linear(512, num_classes)\n",
        "        )\n",
        "\n",
        "    def forward(self, text_vector, image):\n",
        "        # Image features\n",
        "        image_features = self.image_model.extract_features(image)\n",
        "        image_features = nn.functional.adaptive_avg_pool2d(image_features, (1, 1))\n",
        "        image_features = image_features.view(image_features.size(0), -1)\n",
        "\n",
        "        # Fuse features\n",
        "        fused_features = torch.cat((text_vector, image_features), dim=1)\n",
        "\n",
        "        # Classify\n",
        "        output = self.classifier(fused_features)\n",
        "        return output\n",
        "\n",
        "# Initialize model\n",
        "text_feature_size = X_train_tfidf.shape[1]  # 5000\n",
        "model = MultimodalClassifier(text_feature_size, num_classes)"
      ],
      "metadata": {
        "id": "8GW9NQ2kSQ-I"
      },
      "id": "8GW9NQ2kSQ-I",
      "execution_count": null,
      "outputs": []
    },
    {
      "cell_type": "code",
      "source": [
        "# Training function\n",
        "def training(model, train_loader, dev_loader, criterion, optimizer, num_epochs, device):\n",
        "    model.to(device)\n",
        "\n",
        "    train_losses = []\n",
        "    val_losses = []\n",
        "    train_f1_scores = []\n",
        "    val_f1_scores = []\n",
        "\n",
        "    best_val_f1 = 0.0\n",
        "    patience = 3\n",
        "    trigger_times = 0\n",
        "\n",
        "    for epoch in range(num_epochs):\n",
        "        model.train()\n",
        "        train_loss = 0.0\n",
        "        train_preds = []\n",
        "        train_labels = []\n",
        "\n",
        "        for text_vector, images, labels in train_loader:\n",
        "            text_vector = text_vector.to(device)\n",
        "            images = images.to(device)\n",
        "            labels = labels.to(device)\n",
        "\n",
        "            optimizer.zero_grad()\n",
        "            outputs = model(text_vector, images)\n",
        "            loss = criterion(outputs, labels)\n",
        "            loss.backward()\n",
        "            optimizer.step()\n",
        "\n",
        "            train_loss += loss.item() * text_vector.size(0)\n",
        "            _, preds = torch.max(outputs, 1)\n",
        "            train_preds.extend(preds.cpu().numpy())\n",
        "            train_labels.extend(labels.cpu().numpy())\n",
        "\n",
        "        avg_train_loss = train_loss / len(train_loader.dataset)\n",
        "        train_f1 = f1_score(train_labels, train_preds, average='weighted')\n",
        "\n",
        "        model.eval()\n",
        "        val_loss = 0.0\n",
        "        val_preds = []\n",
        "        val_labels = []\n",
        "\n",
        "        with torch.no_grad():\n",
        "            for text_vector, images, labels in dev_loader:\n",
        "                text_vector = text_vector.to(device)\n",
        "                images = images.to(device)\n",
        "                labels = labels.to(device)\n",
        "\n",
        "                outputs = model(text_vector, images)\n",
        "                loss = criterion(outputs, labels)\n",
        "\n",
        "                val_loss += loss.item() * text_vector.size(0)\n",
        "                _, preds = torch.max(outputs, 1)\n",
        "                val_preds.extend(preds.cpu().numpy())\n",
        "                val_labels.extend(labels.cpu().numpy())\n",
        "\n",
        "        avg_val_loss = val_loss / len(dev_loader.dataset)\n",
        "        val_f1 = f1_score(val_labels, val_preds, average='weighted')\n",
        "\n",
        "        train_losses.append(avg_train_loss)\n",
        "        val_losses.append(avg_val_loss)\n",
        "        train_f1_scores.append(train_f1)\n",
        "        val_f1_scores.append(val_f1)\n",
        "\n",
        "        print(f'Epoch {epoch+1}/{num_epochs}, '\n",
        "              f'Train Loss: {avg_train_loss:.4f}, Train F1: {train_f1:.4f}, '\n",
        "              f'Val Loss: {avg_val_loss:.4f}, Val F1: {val_f1:.4f}')\n",
        "\n",
        "        # Early stopping\n",
        "        if val_f1 > best_val_f1:\n",
        "            best_val_f1 = val_f1\n",
        "            torch.save(model.state_dict(), 'best_model.pt')\n",
        "            trigger_times = 0\n",
        "        else:\n",
        "            trigger_times += 1\n",
        "            if trigger_times >= patience:\n",
        "                print('Early stopping!')\n",
        "                break\n",
        "\n",
        "    # Load best model\n",
        "    model.load_state_dict(torch.load('best_model.pt'))\n",
        "\n",
        "    return model, train_losses, val_losses, train_f1_scores, val_f1_scores"
      ],
      "metadata": {
        "id": "ahMksZxTSXE1"
      },
      "id": "ahMksZxTSXE1",
      "execution_count": null,
      "outputs": []
    },
    {
      "cell_type": "code",
      "source": [
        "# Set up training\n",
        "device = torch.device('cuda' if torch.cuda.is_available() else 'cpu')\n",
        "criterion = nn.CrossEntropyLoss()\n",
        "optimizer = torch.optim.Adam(model.classifier.parameters(), lr=1e-5)\n",
        "num_epochs = 10\n",
        "\n",
        "# Train the model\n",
        "model, train_losses, val_losses, train_f1_scores, val_f1_scores = training(model, train_loader, dev_loader,\n",
        "                                                                           criterion, optimizer, num_epochs, device)\n",
        "\n",
        "print_plots(train_losses, val_losses)\n",
        "\n",
        "# Evaluate on test set\n",
        "model.eval()\n",
        "test_preds = []\n",
        "test_labels = []\n",
        "\n",
        "with torch.no_grad():\n",
        "    for text_vector, images, labels in test_loader:\n",
        "        text_vector = text_vector.to(device)\n",
        "        images = images.to(device)\n",
        "        labels = labels.to(device)\n",
        "\n",
        "        outputs = model(text_vector, images)\n",
        "        _, preds = torch.max(outputs, 1)\n",
        "        test_preds.extend(preds.cpu().numpy())\n",
        "        test_labels.extend(labels.cpu().numpy())\n",
        "\n",
        "test_f1 = f1_score(test_labels, test_preds, average='weighted')\n",
        "print(f'Test F1-score: {test_f1:.4f}')"
      ],
      "metadata": {
        "colab": {
          "base_uri": "https://localhost:8080/",
          "height": 733
        },
        "id": "kMzf_6aySfU0",
        "outputId": "665b963b-2b52-42a0-ebfe-9dbe04b8b96f"
      },
      "id": "kMzf_6aySfU0",
      "execution_count": null,
      "outputs": [
        {
          "output_type": "stream",
          "name": "stdout",
          "text": [
            "Epoch 1/10, Train Loss: 1.0466, Train F1: 0.3898, Val Loss: 1.0518, Val F1: 0.3586\n",
            "Epoch 2/10, Train Loss: 0.9947, Train F1: 0.3696, Val Loss: 1.0315, Val F1: 0.3609\n",
            "Epoch 3/10, Train Loss: 0.9843, Train F1: 0.3694, Val Loss: 1.0224, Val F1: 0.3698\n",
            "Epoch 4/10, Train Loss: 0.9793, Train F1: 0.3711, Val Loss: 1.0166, Val F1: 0.3712\n",
            "Epoch 5/10, Train Loss: 0.9724, Train F1: 0.3761, Val Loss: 1.0116, Val F1: 0.3806\n",
            "Epoch 6/10, Train Loss: 0.9677, Train F1: 0.3915, Val Loss: 1.0083, Val F1: 0.3900\n",
            "Epoch 7/10, Train Loss: 0.9662, Train F1: 0.3991, Val Loss: 1.0049, Val F1: 0.3913\n",
            "Epoch 8/10, Train Loss: 0.9601, Train F1: 0.3959, Val Loss: 1.0026, Val F1: 0.4040\n",
            "Epoch 9/10, Train Loss: 0.9593, Train F1: 0.4154, Val Loss: 0.9998, Val F1: 0.4089\n",
            "Epoch 10/10, Train Loss: 0.9575, Train F1: 0.4160, Val Loss: 0.9972, Val F1: 0.4068\n"
          ]
        },
        {
          "output_type": "stream",
          "name": "stderr",
          "text": [
            "<ipython-input-58-e1a58ed378fa>:82: FutureWarning: You are using `torch.load` with `weights_only=False` (the current default value), which uses the default pickle module implicitly. It is possible to construct malicious pickle data which will execute arbitrary code during unpickling (See https://github.com/pytorch/pytorch/blob/main/SECURITY.md#untrusted-models for more details). In a future release, the default value for `weights_only` will be flipped to `True`. This limits the functions that could be executed during unpickling. Arbitrary objects will no longer be allowed to be loaded via this mode unless they are explicitly allowlisted by the user via `torch.serialization.add_safe_globals`. We recommend you start setting `weights_only=True` for any use case where you don't have full control of the loaded file. Please open an issue on GitHub for any issues related to this experimental feature.\n",
            "  model.load_state_dict(torch.load('best_model.pt'))\n"
          ]
        },
        {
          "output_type": "display_data",
          "data": {
            "text/plain": [
              "<Figure size 1000x500 with 1 Axes>"
            ],
            "image/png": "[encoded data removed]"
          },
          "metadata": {}
        },
        {
          "output_type": "stream",
          "name": "stdout",
          "text": [
            "Test F1-score: 0.4201\n"
          ]
        }
      ]
    },
    {
      "cell_type": "markdown",
      "source": [
        "#### frozen-RoBERTa + frozen-EfficientNet"
      ],
      "metadata": {
        "id": "dC85jZAgHxjU"
      },
      "id": "dC85jZAgHxjU"
    },
    {
      "cell_type": "code",
      "source": [
        "class MultimodalDataset(Dataset):\n",
        "    def __init__(self, text_inputs, image_paths, y_labels, augment=False):\n",
        "        self.text_inputs = text_inputs  # Tokenized RoBERTa inputs\n",
        "        self.image_paths = image_paths\n",
        "        self.y_labels = y_labels\n",
        "        self.augment = augment\n",
        "        self.image_size = 224\n",
        "\n",
        "        rotation_value = 0.2\n",
        "        # Image transformations\n",
        "        self.image_transform = transforms.Compose([\n",
        "            transforms.CenterCrop(self.image_size),\n",
        "            transforms.ToTensor(),\n",
        "            transforms.Normalize(mean=[0.485, 0.456, 0.406],\n",
        "                                 std=[0.229, 0.224, 0.225])\n",
        "        ])\n",
        "        self.image_transform_data_augmentation = transforms.Compose([\n",
        "            transforms.RandomResizedCrop(self.image_size),\n",
        "            transforms.RandomHorizontalFlip(),\n",
        "            transforms.RandomVerticalFlip(),\n",
        "            transforms.RandomRotation(degrees=rotation_value * 360),\n",
        "            transforms.ToTensor(),\n",
        "            transforms.Normalize([0.485, 0.456, 0.406],\n",
        "                                 [0.229, 0.224, 0.225])\n",
        "        ])\n",
        "\n",
        "    def __len__(self):\n",
        "        return len(self.y_labels)\n",
        "\n",
        "    def __getitem__(self, idx):\n",
        "        # Text inputs (tokenized by RoBERTa)\n",
        "        text_input = {key: val[idx] for key, val in self.text_inputs.items()}\n",
        "\n",
        "        # Get image\n",
        "        image_path = self.image_paths.iloc[idx]\n",
        "        image_file = os.path.join(str(image_path))\n",
        "        image = Image.open(image_file).convert('RGB')\n",
        "        if self.augment:\n",
        "            image = self.image_transform_data_augmentation(image)\n",
        "        else:\n",
        "            image = self.image_transform(image)\n",
        "\n",
        "        # Label\n",
        "        label = self.y_labels[idx]\n",
        "        return text_input, image, label"
      ],
      "metadata": {
        "id": "a4zIU4MbXZ0g"
      },
      "id": "a4zIU4MbXZ0g",
      "execution_count": null,
      "outputs": []
    },
    {
      "cell_type": "code",
      "source": [
        "class MultimodalClassifier(nn.Module):\n",
        "    def __init__(self, roberta_model_name='roberta-base', num_classes=10):\n",
        "        super(MultimodalClassifier, self).__init__()\n",
        "\n",
        "        # Load frozen RoBERTa\n",
        "        self.text_encoder = AutoModel.from_pretrained(roberta_model_name)\n",
        "        for param in self.text_encoder.parameters():\n",
        "            param.requires_grad = False\n",
        "\n",
        "        # Load frozen EfficientNetB3\n",
        "        self.image_encoder = pre_trained\n",
        "        for param in self.image_encoder.parameters():\n",
        "            param.requires_grad = False\n",
        "\n",
        "        # Fusion and classifier\n",
        "        text_feature_size = self.text_encoder.config.hidden_size  # 768 for roberta-base\n",
        "        image_feature_size = 1536  # EfficientNetB3 output size\n",
        "        fused_size = text_feature_size + image_feature_size\n",
        "\n",
        "        self.classifier = nn.Sequential(\n",
        "            nn.Linear(fused_size, 512),\n",
        "            nn.ReLU(),\n",
        "            nn.Dropout(0.5),\n",
        "            nn.Linear(512, num_classes)\n",
        "        )\n",
        "\n",
        "    def forward(self, text_inputs, images):\n",
        "        # Text features\n",
        "        text_outputs = self.text_encoder(**text_inputs)\n",
        "        text_features = text_outputs.last_hidden_state[:, 0, :]  # Use <s> token\n",
        "\n",
        "        # Image features\n",
        "        image_features = self.image_encoder(images)\n",
        "        image_features = image_features.view(image_features.size(0), -1)\n",
        "\n",
        "        # Fuse features\n",
        "        fused_features = torch.cat((text_features, image_features), dim=1)\n",
        "\n",
        "        # Classify\n",
        "        outputs = self.classifier(fused_features)\n",
        "        return outputs"
      ],
      "metadata": {
        "id": "r4yeufKwYBux"
      },
      "id": "r4yeufKwYBux",
      "execution_count": null,
      "outputs": []
    },
    {
      "cell_type": "code",
      "source": [
        "def training(model, train_loader, dev_loader, criterion, optimizer, num_epochs, device):\n",
        "    model.to(device)\n",
        "\n",
        "    train_losses = []\n",
        "    val_losses = []\n",
        "    train_f1_scores = []\n",
        "    val_f1_scores = []\n",
        "\n",
        "    best_val_f1 = 0.0\n",
        "    patience = 3\n",
        "    trigger_times = 0\n",
        "\n",
        "    for epoch in range(num_epochs):\n",
        "        model.train()\n",
        "        train_loss = 0.0\n",
        "        train_preds = []\n",
        "        train_labels = []\n",
        "\n",
        "        for text_inputs, images, labels in train_loader:\n",
        "            # Move inputs to device\n",
        "            text_inputs = {key: val.to(device) for key, val in text_inputs.items()}\n",
        "            images = images.to(device)\n",
        "            labels = labels.to(device)\n",
        "\n",
        "            optimizer.zero_grad()\n",
        "            outputs = model(text_inputs, images)\n",
        "            loss = criterion(outputs, labels)\n",
        "            loss.backward()\n",
        "            optimizer.step()\n",
        "\n",
        "            train_loss += loss.item() * labels.size(0)\n",
        "            _, preds = torch.max(outputs, 1)\n",
        "            train_preds.extend(preds.cpu().numpy())\n",
        "            train_labels.extend(labels.cpu().numpy())\n",
        "\n",
        "        avg_train_loss = train_loss / len(train_loader.dataset)\n",
        "        train_f1 = f1_score(train_labels, train_preds, average='weighted')\n",
        "\n",
        "        # Validation phase\n",
        "        model.eval()\n",
        "        val_loss = 0.0\n",
        "        val_preds = []\n",
        "        val_labels = []\n",
        "\n",
        "        with torch.no_grad():\n",
        "            for text_inputs, images, labels in dev_loader:\n",
        "                text_inputs = {key: val.to(device) for key, val in text_inputs.items()}\n",
        "                images = images.to(device)\n",
        "                labels = labels.to(device)\n",
        "\n",
        "                outputs = model(text_inputs, images)\n",
        "                loss = criterion(outputs, labels)\n",
        "\n",
        "                val_loss += loss.item() * labels.size(0)\n",
        "                _, preds = torch.max(outputs, 1)\n",
        "                val_preds.extend(preds.cpu().numpy())\n",
        "                val_labels.extend(labels.cpu().numpy())\n",
        "\n",
        "        avg_val_loss = val_loss / len(dev_loader.dataset)\n",
        "        val_f1 = f1_score(val_labels, val_preds, average='weighted')\n",
        "\n",
        "        train_losses.append(avg_train_loss)\n",
        "        val_losses.append(avg_val_loss)\n",
        "        train_f1_scores.append(train_f1)\n",
        "        val_f1_scores.append(val_f1)\n",
        "\n",
        "        print(f'Epoch {epoch+1}/{num_epochs}, '\n",
        "              f'Train Loss: {avg_train_loss:.4f}, Train F1: {train_f1:.4f}, '\n",
        "              f'Val Loss: {avg_val_loss:.4f}, Val F1: {val_f1:.4f}')\n",
        "\n",
        "        # Early stopping\n",
        "        if val_f1 > best_val_f1:\n",
        "            best_val_f1 = val_f1\n",
        "            torch.save(model.state_dict(), 'best_model.pt')\n",
        "            trigger_times = 0\n",
        "        else:\n",
        "            trigger_times += 1\n",
        "            if trigger_times >= patience:\n",
        "                print('Early stopping!')\n",
        "                break\n",
        "\n",
        "    model.load_state_dict(torch.load('best_model.pt'))\n",
        "    return model, train_losses, val_losses, train_f1_scores, val_f1_scores"
      ],
      "metadata": {
        "id": "IXwlOeIiYIEC"
      },
      "id": "IXwlOeIiYIEC",
      "execution_count": null,
      "outputs": []
    },
    {
      "cell_type": "code",
      "source": [
        "def evaluate(model, data_loader, device):\n",
        "    model.eval()\n",
        "    test_preds = []\n",
        "    test_labels = []\n",
        "\n",
        "    with torch.no_grad():\n",
        "        for text_inputs, images, labels in data_loader:\n",
        "            # Move inputs to device\n",
        "            text_inputs = {key: val.to(device) for key, val in text_inputs.items()}\n",
        "            images = images.to(device)\n",
        "            labels = labels.to(device)\n",
        "\n",
        "            # Make predictions\n",
        "            outputs = model(text_inputs, images)\n",
        "            _, preds = torch.max(outputs, 1)\n",
        "            test_preds.extend(preds.cpu().numpy())\n",
        "            test_labels.extend(labels.cpu().numpy())\n",
        "\n",
        "    # Calculate metrics\n",
        "    accuracy = accuracy_score(test_labels, test_preds)\n",
        "    f1 = f1_score(test_labels, test_preds, average='weighted')\n",
        "    report = classification_report(test_labels, test_preds)\n",
        "\n",
        "    print(f\"Test Accuracy: {accuracy:.4f}\")\n",
        "    print(f\"Test F1-score: {f1:.4f}\")\n",
        "    print(\"Classification Report:\")\n",
        "    print(report)\n",
        "\n",
        "    return accuracy, f1, report"
      ],
      "metadata": {
        "id": "g1uMlQBEY4bA"
      },
      "id": "g1uMlQBEY4bA",
      "execution_count": null,
      "outputs": []
    },
    {
      "cell_type": "code",
      "source": [
        "# Initialize dataset and dataloaders\n",
        "train_dataset = MultimodalDataset(X_train_tokenized, path_image_train, y_train_enc, augment=True)\n",
        "dev_dataset = MultimodalDataset(X_dev_tokenized, path_image_dev, y_dev_enc)\n",
        "test_dataset = MultimodalDataset(X_test_tokenized, path_image_test, y_test_enc)\n",
        "\n",
        "train_loader = DataLoader(train_dataset, batch_size=32, shuffle=True)\n",
        "dev_loader = DataLoader(dev_dataset, batch_size=32)\n",
        "test_loader = DataLoader(test_dataset, batch_size=32)\n",
        "\n",
        "# Initialize model\n",
        "num_classes = len(set(y_train_enc))\n",
        "device = torch.device('cuda' if torch.cuda.is_available() else 'cpu')\n",
        "model = MultimodalClassifier(num_classes=num_classes)\n",
        "\n",
        "# Training setup\n",
        "criterion = nn.CrossEntropyLoss()\n",
        "optimizer = torch.optim.Adam(model.classifier.parameters(), lr=1e-5)\n",
        "num_epochs = 10\n",
        "\n",
        "# Train the model\n",
        "model, train_losses, val_losses, train_f1_scores, val_f1_scores = training(\n",
        "    model, train_loader, dev_loader, criterion, optimizer, num_epochs, device)\n",
        "\n",
        "print_plots(train_losses, val_losses)\n",
        "\n",
        "# Evaluate on the test set\n",
        "evaluate(model, test_loader, device)"
      ],
      "metadata": {
        "id": "tRI8PKdnYXfk"
      },
      "id": "tRI8PKdnYXfk",
      "execution_count": null,
      "outputs": []
    },
    {
      "cell_type": "markdown",
      "source": [
        "#### frozen-RoBERTa + frozen-EfficientNet-emo"
      ],
      "metadata": {
        "id": "sqTSDp35JWIP"
      },
      "id": "sqTSDp35JWIP"
    },
    {
      "cell_type": "code",
      "source": [
        "# Define the multimodal classifier\n",
        "class MultimodalClassifier(nn.Module):\n",
        "    def __init__(self, text_feature_size, num_classes):\n",
        "        super(MultimodalClassifier, self).__init__()\n",
        "        # Image encoder\n",
        "        self.image_model = fine_tuned\n",
        "        for param in self.image_model.parameters():\n",
        "            param.requires_grad = False\n",
        "        image_feature_size = self.image_model._fc.in_features\n",
        "\n",
        "        # Fusion and classifier\n",
        "        self.classifier = nn.Sequential(\n",
        "            nn.Linear(text_feature_size + image_feature_size, 512),\n",
        "            nn.ReLU(),\n",
        "            nn.Dropout(0.5),\n",
        "            nn.Linear(512, num_classes)\n",
        "        )\n",
        "\n",
        "    def forward(self, text_vector, image):\n",
        "        # Extract image features\n",
        "        image_features = self.image_model.extract_features(image)\n",
        "        image_features = nn.functional.adaptive_avg_pool2d(image_features, (1, 1))\n",
        "        image_features = image_features.view(image_features.size(0), -1)\n",
        "\n",
        "        # Fuse features\n",
        "        fused_features = torch.cat((text_vector, image_features), dim=1)\n",
        "\n",
        "        # Classify\n",
        "        output = self.classifier(fused_features)\n",
        "        return output"
      ],
      "metadata": {
        "id": "XqnKV3OAZdUd"
      },
      "id": "XqnKV3OAZdUd",
      "execution_count": null,
      "outputs": []
    },
    {
      "cell_type": "code",
      "source": [
        "# Initialize model\n",
        "text_feature_size = X_train_tfidf.shape[1]\n",
        "num_classes = len(set(y_train_enc))\n",
        "model = MultimodalClassifier(text_feature_size, num_classes)"
      ],
      "metadata": {
        "id": "3U3ammR8aDmx"
      },
      "id": "3U3ammR8aDmx",
      "execution_count": null,
      "outputs": []
    },
    {
      "cell_type": "code",
      "source": [
        "# Set up training\n",
        "device = torch.device('cuda' if torch.cuda.is_available() else 'cpu')\n",
        "criterion = nn.CrossEntropyLoss()\n",
        "optimizer = torch.optim.Adam(model.classifier.parameters(), lr=1e-5)\n",
        "num_epochs = 10\n",
        "\n",
        "# Train the model\n",
        "model, train_losses, val_losses, train_f1_scores, val_f1_scores = training(model, train_loader, dev_loader,\n",
        "                                                                           criterion, optimizer, num_epochs, device)\n",
        "\n",
        "print_plots(train_losses, val_losses)\n",
        "\n",
        "# Evaluate on test set\n",
        "evaluate(model, test_loader, device)"
      ],
      "metadata": {
        "id": "lb3rxtQtaEDK"
      },
      "id": "lb3rxtQtaEDK",
      "execution_count": null,
      "outputs": []
    },
    {
      "cell_type": "markdown",
      "source": [
        "#### RoBERTa + EfficientNet"
      ],
      "metadata": {
        "id": "aedjsU-ELZOm"
      },
      "id": "aedjsU-ELZOm"
    },
    {
      "cell_type": "code",
      "source": [
        "# Define the multimodal classifier\n",
        "class MultimodalClassifier(nn.Module):\n",
        "    def __init__(self, text_feature_size, num_classes):\n",
        "        super(MultimodalClassifier, self).__init__()\n",
        "        # Image encoder\n",
        "        self.image_model = pre_trained\n",
        "        image_feature_size = self.image_model._fc.in_features\n",
        "\n",
        "        # Fusion and classifier\n",
        "        self.classifier = nn.Sequential(\n",
        "            nn.Linear(text_feature_size + image_feature_size, 512),\n",
        "            nn.ReLU(),\n",
        "            nn.Dropout(0.5),\n",
        "            nn.Linear(512, num_classes)\n",
        "        )\n",
        "\n",
        "    def forward(self, text_vector, image):\n",
        "        # Extract image features\n",
        "        image_features = self.image_model.extract_features(image)\n",
        "        image_features = nn.functional.adaptive_avg_pool2d(image_features, (1, 1))\n",
        "        image_features = image_features.view(image_features.size(0), -1)\n",
        "\n",
        "        # Fuse features\n",
        "        fused_features = torch.cat((text_vector, image_features), dim=1)\n",
        "\n",
        "        # Classify\n",
        "        output = self.classifier(fused_features)\n",
        "        return output"
      ],
      "metadata": {
        "id": "FsJSx_vNar7b"
      },
      "id": "FsJSx_vNar7b",
      "execution_count": null,
      "outputs": []
    },
    {
      "cell_type": "code",
      "source": [
        "# Initialize model\n",
        "text_feature_size = X_train_tfidf.shape[1]  # Assuming 5000\n",
        "num_classes = len(set(y_train_enc))\n",
        "model = MultimodalClassifier(text_feature_size, num_classes)"
      ],
      "metadata": {
        "id": "f1bRqzvPa6NS"
      },
      "id": "f1bRqzvPa6NS",
      "execution_count": null,
      "outputs": []
    },
    {
      "cell_type": "code",
      "source": [
        "# Set up training\n",
        "device = torch.device('cuda' if torch.cuda.is_available() else 'cpu')\n",
        "criterion = nn.CrossEntropyLoss()\n",
        "optimizer = torch.optim.Adam(model.classifier.parameters(), lr=1e-5)\n",
        "num_epochs = 10\n",
        "\n",
        "# Train the model\n",
        "model, train_losses, val_losses, train_f1_scores, val_f1_scores = training(model, train_loader, dev_loader,\n",
        "                                                                           criterion, optimizer, num_epochs, device)\n",
        "\n",
        "print_plots(train_losses, val_losses)\n",
        "\n",
        "# Evaluate on test set\n",
        "evaluate(model, test_loader, device)"
      ],
      "metadata": {
        "id": "ZUmEWXA6a77_"
      },
      "id": "ZUmEWXA6a77_",
      "execution_count": null,
      "outputs": []
    },
    {
      "cell_type": "markdown",
      "id": "421bd0a8-6d91-4295-be90-c1d4009b4a36",
      "metadata": {
        "id": "421bd0a8-6d91-4295-be90-c1d4009b4a36"
      },
      "source": [
        "### Attention Fusions\n",
        "\n",
        "Implement attention mechanism on the different modalities in order to know its importance for the final decision while fusing.\n",
        "\n",
        "* Self-attention\n",
        "* Cross-modal Attention\n",
        "\n",
        "Use the `MultiheadAttention` function from pytorch, with 2 heads, or a concatenation of the vector weighted with attention and the initial vector.  \n",
        "\n",
        "Here is an example for the cross-modal attention, in the forward:\n",
        "```python\n",
        "att_text_embedding, _ = self.text_to_image_attention(text_embedding, image_embedding, image_embedding)\n",
        "text_embedding = torch.cat((text_embedding, att_text_embedding), dim=1)\n",
        "text_embedding = torch.relu(self.text_self_attention_fc(text_embedding))\n",
        "\n",
        "att_image_embedding, _ = self.image_to_text_attention(image_embedding, text_embedding, text_embedding)\n",
        "image_embedding = torch.cat((image_embedding, att_image_embedding), dim=1)\n",
        "image_embedding = torch.relu(self.text_self_attention_fc(image_embedding))\n",
        "```                    \n",
        "\n",
        "For these experiments, you should unfreeze a part of the whole network, using the `unfreeze_params()` function."
      ]
    },
    {
      "cell_type": "code",
      "execution_count": null,
      "id": "cd9d74a2-dc15-4e84-b05f-a8be9e977194",
      "metadata": {
        "id": "cd9d74a2-dc15-4e84-b05f-a8be9e977194"
      },
      "outputs": [],
      "source": [
        "from torchvision.models.efficientnet import MBConv\n",
        "from torchvision.ops.misc import SqueezeExcitation\n",
        "\n",
        "def unfreeze_params(image_encoder, first_block_to_uf = 7):\n",
        "    \"\"\"\n",
        "    Works at least for EfficientB3. Will unfreeze from layer `first_block_to_uf` (the higher this number the less layers will be unfrozen)\n",
        "    \"\"\"\n",
        "    if first_block_to_uf > 0:\n",
        "        # Freeze all layers first\n",
        "        for param in image_encoder.parameters():\n",
        "            param.requires_grad = False\n",
        "\n",
        "        # Unfreeze specified block and subsequent layers\n",
        "        bool_start_unfreezing = False\n",
        "        for name, layer in list(image_encoder.named_children()):\n",
        "            if isinstance(layer, nn.Sequential):\n",
        "                for sub_name, sub_layer in list(layer.named_children()):\n",
        "                    if int(sub_name) >= first_block_to_uf or name == 'classifier':\n",
        "                        if name == 'classifier':\n",
        "                            for param in sub_layer.parameters():\n",
        "                                param.requires_grad = True\n",
        "                        else:\n",
        "                            print(f\"Unfreeze layer {sub_name}\")\n",
        "                            if isinstance(sub_layer, nn.Sequential):\n",
        "                                for sub_sub_layer in sub_layer:\n",
        "                                    if isinstance(sub_sub_layer, MBConv):\n",
        "                                        seq_mbconv = list(sub_sub_layer.children())[0]\n",
        "                                        for sub_seq_mbconv in seq_mbconv:\n",
        "                                            # is squeeze, change\n",
        "                                            if not isinstance(sub_seq_mbconv, SqueezeExcitation):\n",
        "                                                for sub_sub_seq_mbconv in sub_seq_mbconv:\n",
        "                                                    if not isinstance(sub_sub_seq_mbconv, nn.BatchNorm2d):\n",
        "                                                        for param in sub_sub_seq_mbconv.parameters():\n",
        "                                                            param.requires_grad = True\n",
        "                                            else:\n",
        "                                                for param in sub_seq_mbconv.parameters():\n",
        "                                                    param.requires_grad = True\n",
        "\n",
        "                                    else:\n",
        "                                        if not isinstance(sub_sub_layer, nn.BatchNorm2d):\n",
        "                                            for param in sub_sub_layer.parameters():\n",
        "                                                    param.requires_grad = True\n",
        "                            for sub_sub_layer in sub_layer:\n",
        "                                if not isinstance(sub_sub_layer, nn.BatchNorm2d):\n",
        "                                    for param in sub_sub_layer.parameters():\n",
        "                                        param.requires_grad = True\n",
        "\n",
        "    return image_encoder"
      ]
    },
    {
      "cell_type": "markdown",
      "source": [
        "#### Self-attention"
      ],
      "metadata": {
        "id": "dyMfFcY3cuV6"
      },
      "id": "dyMfFcY3cuV6"
    },
    {
      "cell_type": "code",
      "execution_count": null,
      "id": "60ddc4c8-94ef-4107-8ab3-b0a538f1189d",
      "metadata": {
        "id": "60ddc4c8-94ef-4107-8ab3-b0a538f1189d"
      },
      "outputs": [],
      "source": [
        "class SelfAttentionMultimodalClassifier(nn.Module):\n",
        "    def __init__(self, text_feature_size, num_classes, pre_trained_model, unfreeze_block=7):\n",
        "        super(SelfAttentionMultimodalClassifier, self).__init__()\n",
        "        # Image encoder\n",
        "        self.image_model = unfreeze_params(pre_trained_model, first_block_to_uf=unfreeze_block)\n",
        "        image_feature_size = self.image_model._fc.in_features\n",
        "\n",
        "        # Self-attention for text and image\n",
        "        self.text_self_attention = MultiheadAttention(embed_dim=text_feature_size, num_heads=2, batch_first=True)\n",
        "        self.image_self_attention = MultiheadAttention(embed_dim=image_feature_size, num_heads=2, batch_first=True)\n",
        "\n",
        "        # Fusion and classification\n",
        "        self.classifier = nn.Sequential(\n",
        "            nn.Linear(text_feature_size + image_feature_size, 512),\n",
        "            nn.ReLU(),\n",
        "            nn.Dropout(0.5),\n",
        "            nn.Linear(512, num_classes)\n",
        "        )\n",
        "\n",
        "    def forward(self, text_vector, image):\n",
        "        # Extract image features\n",
        "        image_features = self.image_model.extract_features(image)\n",
        "        image_features = nn.functional.adaptive_avg_pool2d(image_features, (1, 1))\n",
        "        image_features = image_features.view(image_features.size(0), -1)\n",
        "\n",
        "        # Self-attention for text\n",
        "        text_embedding, _ = self.text_self_attention(text_vector.unsqueeze(1), text_vector.unsqueeze(1), text_vector.unsqueeze(1))\n",
        "        text_embedding = text_embedding.squeeze(1)\n",
        "\n",
        "        # Self-attention for image\n",
        "        image_embedding, _ = self.image_self_attention(image_features.unsqueeze(1), image_features.unsqueeze(1), image_features.unsqueeze(1))\n",
        "        image_embedding = image_embedding.squeeze(1)\n",
        "\n",
        "        # Fuse features and classify\n",
        "        fused_features = torch.cat((text_embedding, image_embedding), dim=1)\n",
        "        output = self.classifier(fused_features)\n",
        "        return output"
      ]
    },
    {
      "cell_type": "code",
      "source": [
        "# Initialize model\n",
        "text_feature_size = X_train_tfidf.shape[1]\n",
        "num_classes = len(set(y_train_enc))\n",
        "\n",
        "self_attention_model = SelfAttentionMultimodalClassifier(text_feature_size, num_classes, pre_trained, unfreeze_block=7)\n",
        "optimizer_self = torch.optim.Adam(self_attention_model.parameters(), lr=1e-5)\n",
        "\n",
        "# Train Self-Attention Model\n",
        "self_attention_model, self_train_losses, self_val_losses, self_train_f1, self_val_f1 = training(\n",
        "    self_attention_model, train_loader, dev_loader, criterion, optimizer_self, num_epochs, device)\n",
        "\n",
        "# Evaluate\n",
        "evaluate(self_attention_model, test_loader, device)"
      ],
      "metadata": {
        "id": "B0PZB6E7c4ql"
      },
      "id": "B0PZB6E7c4ql",
      "execution_count": null,
      "outputs": []
    },
    {
      "cell_type": "markdown",
      "source": [
        "#### Cross-modal attention"
      ],
      "metadata": {
        "id": "7EPrSX3VcxiT"
      },
      "id": "7EPrSX3VcxiT"
    },
    {
      "cell_type": "code",
      "source": [
        "class CrossModalAttentionMultimodalClassifier(nn.Module):\n",
        "    def __init__(self, text_feature_size, num_classes, pre_trained_model, unfreeze_block=7):\n",
        "        super(CrossModalAttentionMultimodalClassifier, self).__init__()\n",
        "        # Image encoder\n",
        "        self.image_model = unfreeze_params(pre_trained_model, first_block_to_uf=unfreeze_block)\n",
        "        image_feature_size = self.image_model._fc.in_features\n",
        "\n",
        "        # Cross-modal attention\n",
        "        self.text_to_image_attention = MultiheadAttention(embed_dim=image_feature_size, num_heads=2, batch_first=True)\n",
        "        self.image_to_text_attention = MultiheadAttention(embed_dim=text_feature_size, num_heads=2, batch_first=True)\n",
        "\n",
        "        # Fusion and classification\n",
        "        self.classifier = nn.Sequential(\n",
        "            nn.Linear(text_feature_size + image_feature_size, 512),\n",
        "            nn.ReLU(),\n",
        "            nn.Dropout(0.5),\n",
        "            nn.Linear(512, num_classes)\n",
        "        )\n",
        "\n",
        "    def forward(self, text_vector, image):\n",
        "        # Extract image features\n",
        "        image_features = self.image_model.extract_features(image)\n",
        "        image_features = nn.functional.adaptive_avg_pool2d(image_features, (1, 1))\n",
        "        image_features = image_features.view(image_features.size(0), -1)\n",
        "\n",
        "        # Cross-modal attention: text attends to image\n",
        "        att_text_embedding, _ = self.text_to_image_attention(text_vector.unsqueeze(1), image_features.unsqueeze(1), image_features.unsqueeze(1))\n",
        "        text_embedding = att_text_embedding.squeeze(1)\n",
        "\n",
        "        # Cross-modal attention: image attends to text\n",
        "        att_image_embedding, _ = self.image_to_text_attention(image_features.unsqueeze(1), text_vector.unsqueeze(1), text_vector.unsqueeze(1))\n",
        "        image_embedding = att_image_embedding.squeeze(1)\n",
        "\n",
        "        # Fuse features and classify\n",
        "        fused_features = torch.cat((text_embedding, image_embedding), dim=1)\n",
        "        output = self.classifier(fused_features)\n",
        "        return output"
      ],
      "metadata": {
        "id": "E9A4hjQ3c1nA"
      },
      "id": "E9A4hjQ3c1nA",
      "execution_count": null,
      "outputs": []
    },
    {
      "cell_type": "code",
      "source": [
        "cross_modal_model = CrossModalAttentionMultimodalClassifier(text_feature_size, num_classes, pre_trained, unfreeze_block=7)\n",
        "optimizer_cross = torch.optim.Adam(cross_modal_model.parameters(), lr=1e-5)\n",
        "\n",
        "# Train Cross-Modal Attention Model\n",
        "cross_modal_model, cross_train_losses, cross_val_losses, cross_train_f1, cross_val_f1 = training(\n",
        "    cross_modal_model, train_loader, dev_loader, criterion, optimizer_cross, num_epochs, device)\n",
        "\n",
        "# Evaluate\n",
        "evaluate(cross_modal_model, test_loader, device)"
      ],
      "metadata": {
        "id": "eDgcGiIUc6wG"
      },
      "id": "eDgcGiIUc6wG",
      "execution_count": null,
      "outputs": []
    },
    {
      "cell_type": "markdown",
      "id": "527a8c7c-5668-4a41-95e4-2a8ecb3f0bfb",
      "metadata": {
        "id": "527a8c7c-5668-4a41-95e4-2a8ecb3f0bfb",
        "jp-MarkdownHeadingCollapsed": true
      },
      "source": [
        "### Preguntas\n",
        "\n",
        "* ¿Cuál es el impacto de fine-tunear el CNN sobre una tarea conexa? (tipo Emociones)\n",
        "* ¿Cuál es el impacto de descongelar los pesos?  \n",
        "* ¿Funcionan bien las atenciones más complejas?"
      ]
    },
    {
      "cell_type": "markdown",
      "id": "a0f1481a-499e-4f71-b911-6254d94bb3b8",
      "metadata": {
        "id": "a0f1481a-499e-4f71-b911-6254d94bb3b8",
        "jp-MarkdownHeadingCollapsed": true
      },
      "source": [
        "### Respuestas\n",
        "\n",
        "- Fine-tunear una CNN en una tarea conexa mejora la extracción de características al alinear el modelo con aspectos específicos del dominio, como las expresiones emocionales en imágenes. Esta adaptación acelera la convergencia, mejora el rendimiento y captura patrones sutiles relevantes para el dominio objetivo.\n",
        "\n",
        "- Descongelar los pesos permite que el modelo refine las características preentrenadas para la tarea objetivo, mejorando la adaptabilidad. Aunque esto mejora el rendimiento cuando hay suficientes datos de entrenamiento disponibles, aumenta los requisitos computacionales y el riesgo de sobreajuste.\n",
        "\n",
        "- Los mecanismos de atención complejos mejoran las interacciones multimodales al alinear mejor las modalidades y capturar relaciones más profundas. A menudo generan mejoras en el rendimiento en tareas que requieren una fusión detallada de características. Sin embargo, su costo computacional y el riesgo de sobreajuste hacen que sean difíciles de entrenar, especialmente en conjuntos de datos pequeños."
      ]
    },
    {
      "cell_type": "markdown",
      "id": "8435c318-2f94-4862-b98b-cdee4c27fd5a",
      "metadata": {
        "id": "8435c318-2f94-4862-b98b-cdee4c27fd5a",
        "tags": []
      },
      "source": [
        "## Fine-tuning Pre-trained Multimodal Models\n",
        "\n",
        "Use a pre-trained multimodal model from the Hugging Face library and fine-tune it on a dataset of paired text and image data.\n",
        "\n",
        "* **Data Preparation**  \n",
        "    * Use `torch.utils.data.DataLoader` to load a dataset with both text and image modalities, taking as input a `torch.utils.data.Dataset` object.\n",
        "    * Prepare the text and images, ensuring that they are appropriately tokenized and transformed:\n",
        "      * For text, use `Tokenizer` classes associated with your chosen model.\n",
        "      * For images, apply standard transformations (resize, normalization) compatible with your model.\n",
        "\n",
        "* **Model Selection**  \n",
        "   Load the model and associated tokenizer (and image processor, if applicable) with pre-trained weights. Here are examples of pre-trained models available on Hugging Face:\n",
        "\n",
        "### Without Instructions:\n",
        "   * **[ViLT (Vision-and-Language Transformer)](https://huggingface.co/docs/transformers/model_doc/vilt)** - `'dandelin/vilt-b32-mlm'`\n",
        "   * **[LXMERT (Learning Cross-Modality Encoder Representations from Transformers)](https://huggingface.co/docs/transformers/model_doc/lxmert)** - `'unc-nlp/lxmert-base-uncased'`\n",
        "\n",
        "* **Fine-tuning (Optimization)**  \n",
        "    * Fine-tune a simple model using the output token (such as ViLT, using `outputs.pooler_output`; be careful of `max_length` when tokenizing) using a training loop in PyTorch without using the `Trainer` class:\n",
        "      * Use an optimizer like `AdamW` and a relevant loss function (e.g., cross-entropy for classification tasks).\n",
        "      * Set up a training loop where you load a batch of paired text and images, forward it through the model, calculate the loss, and perform backpropagation.\n",
        "      \n",
        "### With Instructions:\n",
        "   * **[BLIP-2](https://huggingface.co/docs/transformers/model_doc/blip-2)** - `'Salesforce/blip2-opt-2.7b'`\n",
        "   * **[LLaVA (Large Language and Vision Assistant)](https://huggingface.co/docs/transformers/model_doc/llava)** - `'llava/vicuna-7b-v1.5'`\n",
        "   * **[BLIP3/xGen-MM](https://huggingface.co/Salesforce/xgen-mm-phi3-mini-instruct-r-v1)** - `'Salesforce/xgen-mm-phi3-mini-instruct-r-v1'`\n",
        "      \n",
        "* **In-Context-Learning / Zero-shot Learning**\n",
        "    * Use In-Context/Zero-shot Learning with a model fine-tuned with instructions (like [in this example](https://huggingface.co/Salesforce/xgen-mm-phi3-mini-instruct-r-v1/blob/main/demo.ipynb))\n",
        "    "
      ]
    },
    {
      "cell_type": "markdown",
      "id": "0b836cff-d4c6-45c0-b4c2-71b376832c8b",
      "metadata": {
        "tags": [],
        "id": "0b836cff-d4c6-45c0-b4c2-71b376832c8b"
      },
      "source": [
        "You can use a `collate_fn` in order to process batch by batch, when passing the `Dataset` object to `DataLoader`.\n",
        "\n",
        "```python\n",
        "def collate_fn(batch):\n",
        "    texts, images, labels = zip(*batch)\n",
        "    \n",
        "    inputs = processor(images=images, text=list(texts), return_tensors=\"pt\", padding=True, truncation=True)\n",
        "\n",
        "    # Add labels to the inputs\n",
        "    inputs[\"label\"] = torch.stack(labels)\n",
        "    \n",
        "    return inputs\n",
        "```"
      ]
    },
    {
      "cell_type": "markdown",
      "source": [
        "#### With instructions"
      ],
      "metadata": {
        "id": "4m2_Ns4yjinj"
      },
      "id": "4m2_Ns4yjinj"
    },
    {
      "cell_type": "code",
      "execution_count": null,
      "id": "655e502f-7979-4ade-8f79-4e91e62d9319",
      "metadata": {
        "id": "655e502f-7979-4ade-8f79-4e91e62d9319"
      },
      "outputs": [],
      "source": [
        "from transformers import ViltProcessor\n",
        "\n",
        "class MultimodalDataset(Dataset):\n",
        "    def __init__(self, text_data, image_paths, labels, processor):\n",
        "        self.text_data = text_data\n",
        "        self.image_paths = image_paths\n",
        "        self.labels = labels\n",
        "        self.processor = processor\n",
        "\n",
        "    def __len__(self):\n",
        "        return len(self.labels)\n",
        "\n",
        "    def __getitem__(self, idx):\n",
        "        text = self.text_data[idx]\n",
        "        image_path = self.image_paths[idx]\n",
        "        label = self.labels[idx]\n",
        "\n",
        "        image = Image.open(image_path).convert(\"RGB\")\n",
        "        return text, image, torch.tensor(label)\n",
        "\n",
        "def collate_fn(batch):\n",
        "    texts, images, labels = zip(*batch)\n",
        "    inputs = processor(images=list(images), text=list(texts), return_tensors=\"pt\", padding=True, truncation=True)\n",
        "    inputs[\"labels\"] = torch.stack(labels)\n",
        "    return inputs\n",
        "\n",
        "# Example Dataset Preparation\n",
        "processor = ViltProcessor.from_pretrained(\"dandelin/vilt-b32-mlm\")\n",
        "text_data = [\"A caption for image 1\", \"A caption for image 2\", ...]\n",
        "image_paths = [\"path/to/image1.jpg\", \"path/to/image2.jpg\", ...]\n",
        "labels = [0, 1, ...]  # Example labels for classification\n",
        "\n",
        "dataset = MultimodalDataset(text_data, image_paths, labels, processor)\n",
        "dataloader = DataLoader(dataset, batch_size=8, shuffle=True, collate_fn=collate_fn)"
      ]
    },
    {
      "cell_type": "code",
      "source": [
        "from transformers import ViltForSequenceClassification\n",
        "\n",
        "# Load pre-trained ViLT model for classification\n",
        "model = ViltForSequenceClassification.from_pretrained(\"dandelin/vilt-b32-mlm\", num_labels=2)\n",
        "\n",
        "# Set device\n",
        "device = torch.device(\"cuda\" if torch.cuda.is_available() else \"cpu\")\n",
        "model.to(device)"
      ],
      "metadata": {
        "id": "e4rcePUMlPMz"
      },
      "id": "e4rcePUMlPMz",
      "execution_count": null,
      "outputs": []
    },
    {
      "cell_type": "code",
      "source": [
        "# Define optimizer and loss\n",
        "optimizer = AdamW(model.parameters(), lr=5e-5)\n",
        "criterion = CrossEntropyLoss()\n",
        "\n",
        "# Training loop\n",
        "num_epochs = 5\n",
        "for epoch in range(num_epochs):\n",
        "    model.train()\n",
        "    total_loss = 0\n",
        "    correct = 0\n",
        "    total = 0\n",
        "\n",
        "    loop = tqdm(dataloader, leave=True)\n",
        "    for batch in loop:\n",
        "        inputs = {key: val.to(device) for key, val in batch.items() if key != \"labels\"}\n",
        "        labels = batch[\"labels\"].to(device)\n",
        "\n",
        "        # Forward pass\n",
        "        outputs = model(**inputs)\n",
        "        loss = criterion(outputs.logits, labels)\n",
        "\n",
        "        # Backward pass\n",
        "        optimizer.zero_grad()\n",
        "        loss.backward()\n",
        "        optimizer.step()\n",
        "\n",
        "        # Metrics\n",
        "        total_loss += loss.item()\n",
        "        _, preds = torch.max(outputs.logits, dim=1)\n",
        "        correct += (preds == labels).sum().item()\n",
        "        total += labels.size(0)\n",
        "\n",
        "        # Update progress bar\n",
        "        loop.set_description(f\"Epoch {epoch+1}\")\n",
        "        loop.set_postfix(loss=loss.item(), acc=correct/total)\n",
        "\n",
        "    print(f\"Epoch {epoch+1} - Loss: {total_loss/len(dataloader):.4f}, Accuracy: {correct/total:.4f}\")"
      ],
      "metadata": {
        "id": "aMu6TkoSlPxg"
      },
      "id": "aMu6TkoSlPxg",
      "execution_count": null,
      "outputs": []
    },
    {
      "cell_type": "code",
      "source": [
        "from sklearn.metrics import classification_report\n",
        "\n",
        "# Evaluation loop\n",
        "model.eval()\n",
        "all_preds = []\n",
        "all_labels = []\n",
        "\n",
        "with torch.no_grad():\n",
        "    for batch in dataloader:\n",
        "        inputs = {key: val.to(device) for key, val in batch.items() if key != \"labels\"}\n",
        "        labels = batch[\"labels\"].to(device)\n",
        "\n",
        "        outputs = model(**inputs)\n",
        "        _, preds = torch.max(outputs.logits, dim=1)\n",
        "        all_preds.extend(preds.cpu().numpy())\n",
        "        all_labels.extend(labels.cpu().numpy())\n",
        "\n",
        "print(classification_report(all_labels, all_preds))"
      ],
      "metadata": {
        "id": "KjNigP4plUtv"
      },
      "id": "KjNigP4plUtv",
      "execution_count": null,
      "outputs": []
    },
    {
      "cell_type": "markdown",
      "source": [
        "#### Without instructions"
      ],
      "metadata": {
        "id": "nU2FHCBWjkq9"
      },
      "id": "nU2FHCBWjkq9"
    },
    {
      "cell_type": "code",
      "source": [
        "from transformers import BlipProcessor, BlipForConditionalGeneration\n",
        "\n",
        "class MultimodalDataset(Dataset):\n",
        "    def __init__(self, text_data, image_paths, labels, processor):\n",
        "        self.text_data = text_data\n",
        "        self.image_paths = image_paths\n",
        "        self.labels = labels\n",
        "        self.processor = processor\n",
        "\n",
        "    def __len__(self):\n",
        "        return len(self.labels)\n",
        "\n",
        "    def __getitem__(self, idx):\n",
        "        text = self.text_data[idx]\n",
        "        image_path = self.image_paths[idx]\n",
        "        label = self.labels[idx]\n",
        "\n",
        "        image = Image.open(image_path).convert(\"RGB\")\n",
        "        return text, image, torch.tensor(label)\n",
        "\n",
        "def collate_fn(batch):\n",
        "    texts, images, labels = zip(*batch)\n",
        "    inputs = processor(images=list(images), text=list(texts), return_tensors=\"pt\", padding=True, truncation=True)\n",
        "    inputs[\"labels\"] = torch.stack(labels)\n",
        "    return inputs\n",
        "\n",
        "# Example Dataset Preparation\n",
        "processor = BlipProcessor.from_pretrained(\"Salesforce/xgen-mm-phi3-mini-instruct-r-v1\")\n",
        "text_data = [\"What is the emotion in this image?\", \"Describe the sentiment of the image.\", ...]\n",
        "image_paths = [\"path/to/image1.jpg\", \"path/to/image2.jpg\", ...]\n",
        "labels = [0, 1, ...]  # Example labels for classification\n",
        "\n",
        "dataset = MultimodalDataset(text_data, image_paths, labels, processor)\n",
        "dataloader = DataLoader(dataset, batch_size=8, shuffle=True, collate_fn=collate_fn)"
      ],
      "metadata": {
        "id": "FsK273CkjmYO"
      },
      "id": "FsK273CkjmYO",
      "execution_count": null,
      "outputs": []
    },
    {
      "cell_type": "code",
      "source": [
        "from transformers import BlipForConditionalGeneration\n",
        "\n",
        "# Load pre-trained BLIP3 model fine-tuned with instructions for in-context learning\n",
        "model = BlipForConditionalGeneration.from_pretrained(\"Salesforce/xgen-mm-phi3-mini-instruct-r-v1\", num_labels=2)\n",
        "\n",
        "# Set device\n",
        "device = torch.device(\"cuda\" if torch.cuda.is_available() else \"cpu\")\n",
        "model.to(device)"
      ],
      "metadata": {
        "id": "CtC_zBTvnRBQ"
      },
      "id": "CtC_zBTvnRBQ",
      "execution_count": null,
      "outputs": []
    },
    {
      "cell_type": "code",
      "source": [
        "# Define optimizer and loss\n",
        "optimizer = AdamW(model.parameters(), lr=5e-5)\n",
        "criterion = nn.CrossEntropyLoss()\n",
        "\n",
        "# Training loop\n",
        "num_epochs = 5\n",
        "for epoch in range(num_epochs):\n",
        "    model.train()\n",
        "    total_loss = 0\n",
        "    correct = 0\n",
        "    total = 0\n",
        "\n",
        "    loop = tqdm(dataloader, leave=True)\n",
        "    for batch in loop:\n",
        "        inputs = {key: val.to(device) for key, val in batch.items() if key != \"labels\"}\n",
        "        labels = batch[\"labels\"].to(device)\n",
        "\n",
        "        # Forward pass with instruction-based in-context learning\n",
        "        outputs = model(**inputs)\n",
        "        loss = criterion(outputs.logits, labels)\n",
        "\n",
        "        # Backward pass\n",
        "        optimizer.zero_grad()\n",
        "        loss.backward()\n",
        "        optimizer.step()\n",
        "\n",
        "        # Metrics\n",
        "        total_loss += loss.item()\n",
        "        _, preds = torch.max(outputs.logits, dim=1)\n",
        "        correct += (preds == labels).sum().item()\n",
        "        total += labels.size(0)\n",
        "\n",
        "        # Update progress bar\n",
        "        loop.set_description(f\"Epoch {epoch+1}\")\n",
        "        loop.set_postfix(loss=loss.item(), acc=correct/total)\n",
        "\n",
        "    print(f\"Epoch {epoch+1} - Loss: {total_loss/len(dataloader):.4f}, Accuracy: {correct/total:.4f}\")"
      ],
      "metadata": {
        "id": "KcOGQOYDnXos"
      },
      "id": "KcOGQOYDnXos",
      "execution_count": null,
      "outputs": []
    },
    {
      "cell_type": "code",
      "source": [
        "# Evaluation loop\n",
        "model.eval()\n",
        "all_preds = []\n",
        "all_labels = []\n",
        "\n",
        "with torch.no_grad():\n",
        "    for batch in dataloader:\n",
        "        inputs = {key: val.to(device) for key, val in batch.items() if key != \"labels\"}\n",
        "        labels = batch[\"labels\"].to(device)\n",
        "\n",
        "        # Forward pass with zero-shot learning\n",
        "        outputs = model(**inputs)\n",
        "        _, preds = torch.max(outputs.logits, dim=1)\n",
        "        all_preds.extend(preds.cpu().numpy())\n",
        "        all_labels.extend(labels.cpu().numpy())\n",
        "\n",
        "print(classification_report(all_labels, all_preds))"
      ],
      "metadata": {
        "id": "zN8pOkMvndW9"
      },
      "id": "zN8pOkMvndW9",
      "execution_count": null,
      "outputs": []
    },
    {
      "cell_type": "markdown",
      "id": "83179e2f-9ee3-411c-b403-d4e5e4f39b34",
      "metadata": {
        "id": "83179e2f-9ee3-411c-b403-d4e5e4f39b34"
      },
      "source": [
        "### Preguntas\n",
        "\n",
        "* How are the performances using multimodaly pre-trained model, compared with other ones?  \n",
        "* What is the interest of Instructed Models? What could you see with the results?"
      ]
    },
    {
      "cell_type": "markdown",
      "id": "c4ca6b77-fb58-4993-bce7-bf62a1aac887",
      "metadata": {
        "id": "c4ca6b77-fb58-4993-bce7-bf62a1aac887"
      },
      "source": [
        "#### Respuestas\n",
        "\n",
        "-\n",
        "\n",
        "-"
      ]
    }
  ],
  "metadata": {
    "accelerator": "GPU",
    "colab": {
      "gpuType": "T4",
      "provenance": [],
      "collapsed_sections": [
        "Sndqe-vMFlLG",
        "poJVPciuZb9W",
        "dC85jZAgHxjU",
        "sqTSDp35JWIP",
        "aedjsU-ELZOm",
        "dyMfFcY3cuV6",
        "7EPrSX3VcxiT"
      ]
    },
    "kernelspec": {
      "display_name": "Python [deeplearning_env]",
      "language": "python",
      "name": "conda-env-deeplearning_env-py"
    },
    "language_info": {
      "codemirror_mode": {
        "name": "ipython",
        "version": 3
      },
      "file_extension": ".py",
      "mimetype": "text/x-python",
      "name": "python",
      "nbconvert_exporter": "python",
      "pygments_lexer": "ipython3",
      "version": "3.11.6"
    }
  },
  "nbformat": 4,
  "nbformat_minor": 5
}